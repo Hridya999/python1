{
 "cells": [
  {
   "cell_type": "code",
   "execution_count": 7,
   "id": "4b7f6383",
   "metadata": {},
   "outputs": [
    {
     "name": "stdout",
     "output_type": "stream",
     "text": [
      "['apple', 'banana', 'range']\n"
     ]
    }
   ],
   "source": [
    "list=[1,2,3]\n",
    "list2=list1.copy()\n",
    "print(list2)\n",
    "\n"
   ]
  },
  {
   "cell_type": "code",
   "execution_count": 10,
   "id": "a1bf035c",
   "metadata": {},
   "outputs": [
    {
     "name": "stdout",
     "output_type": "stream",
     "text": [
      "[3, 4, 6, 'apple', 'banana', 'range']\n"
     ]
    }
   ],
   "source": [
    "list=[1,2,3]\n",
    "list2=[3,4,6]\n",
    "list2.extend(list1)\n",
    "print(list2)"
   ]
  },
  {
   "cell_type": "code",
   "execution_count": null,
   "id": "d262fe26",
   "metadata": {},
   "outputs": [],
   "source": []
  },
  {
   "cell_type": "code",
   "execution_count": 20,
   "id": "841daac3",
   "metadata": {},
   "outputs": [
    {
     "ename": "SyntaxError",
     "evalue": "invalid syntax (3885318069.py, line 2)",
     "output_type": "error",
     "traceback": [
      "\u001b[1;36m  Input \u001b[1;32mIn [20]\u001b[1;36m\u001b[0m\n\u001b[1;33m    new_list=list.split()\u001b[0m\n\u001b[1;37m    ^\u001b[0m\n\u001b[1;31mSyntaxError\u001b[0m\u001b[1;31m:\u001b[0m invalid syntax\n"
     ]
    }
   ],
   "source": [
    "list=(input(\"enter the list:\")\n",
    "new_list=list.split()\n",
    "print(\"list of elemets is:\",new_list)\n",
    "          "
   ]
  },
  {
   "cell_type": "code",
   "execution_count": 24,
   "id": "7b9cc010",
   "metadata": {},
   "outputs": [
    {
     "name": "stdout",
     "output_type": "stream",
     "text": [
      "[3, 4]\n"
     ]
    }
   ],
   "source": [
    "a=[1,2,3,4]\n",
    "b=[3,4,5,6]\n",
    "def common(a,b):\n",
    "    c = [value for value in a if value in b]\n",
    "    return(c)    \n",
    "new=common(a,b)\n",
    "print(new)"
   ]
  },
  {
   "cell_type": "code",
   "execution_count": 26,
   "id": "eac95be9",
   "metadata": {},
   "outputs": [
    {
     "name": "stdout",
     "output_type": "stream",
     "text": [
      "original list is: [1, 2, 3, 4]\n"
     ]
    },
    {
     "ename": "TypeError",
     "evalue": "'list' object is not callable",
     "output_type": "error",
     "traceback": [
      "\u001b[1;31m---------------------------------------------------------------------------\u001b[0m",
      "\u001b[1;31mTypeError\u001b[0m                                 Traceback (most recent call last)",
      "Input \u001b[1;32mIn [26]\u001b[0m, in \u001b[0;36m<cell line: 4>\u001b[1;34m()\u001b[0m\n\u001b[0;32m      2\u001b[0m \u001b[38;5;28mprint\u001b[39m(\u001b[38;5;124m\"\u001b[39m\u001b[38;5;124moriginal list is:\u001b[39m\u001b[38;5;124m\"\u001b[39m,mylist)\n\u001b[0;32m      3\u001b[0m myset\u001b[38;5;241m=\u001b[39m\u001b[38;5;28mset\u001b[39m(mylist)\n\u001b[1;32m----> 4\u001b[0m mynewlist\u001b[38;5;241m=\u001b[39m\u001b[38;5;28;43mlist\u001b[39;49m\u001b[43m \u001b[49m\u001b[43m(\u001b[49m\u001b[43mmyset\u001b[49m\u001b[43m)\u001b[49m\n\u001b[0;32m      5\u001b[0m \u001b[38;5;28mprint\u001b[39m(\u001b[38;5;124m\"\u001b[39m\u001b[38;5;124mset of unique value in the list is:\u001b[39m\u001b[38;5;124m\"\u001b[39m,mynewlist)\n",
      "\u001b[1;31mTypeError\u001b[0m: 'list' object is not callable"
     ]
    }
   ],
   "source": [
    "mylist=[1,2,3,4]\n",
    "print(\"original list is:\",mylist)\n",
    "myset=set(mylist)\n",
    "mynewlist=list (myset)\n",
    "print(\"set of unique value in the list is:\",mynewlist)"
   ]
  },
  {
   "cell_type": "code",
   "execution_count": 28,
   "id": "6b79e208",
   "metadata": {},
   "outputs": [
    {
     "name": "stdout",
     "output_type": "stream",
     "text": [
      "Original List :  [10, 20, 30, 40, 20, 50, 60, 40]\n",
      "List of unique numbers :  {50, 20, 40, 10, 60, 30}\n"
     ]
    }
   ],
   "source": [
    "my_list = [10, 20, 30, 40, 20, 50, 60, 40]\n",
    "print(\"Original List : \",my_list)\n",
    "my_set = set(my_list)\n",
    "my_new_list = set(my_set)\n",
    "print(\"List of unique numbers : \",my_new_list)"
   ]
  },
  {
   "cell_type": "code",
   "execution_count": 30,
   "id": "725f2079",
   "metadata": {},
   "outputs": [
    {
     "name": "stdout",
     "output_type": "stream",
     "text": [
      "1\n",
      "3\n"
     ]
    }
   ],
   "source": [
    "list=[1,2,3,4]\n",
    "for num in list:\n",
    "    if num%2!=0:\n",
    "        print(num)"
   ]
  },
  {
   "cell_type": "code",
   "execution_count": 32,
   "id": "7afac1eb",
   "metadata": {},
   "outputs": [
    {
     "name": "stdout",
     "output_type": "stream",
     "text": [
      "concatinated elements of the list\n",
      " [1, 2, 3, 4, 5, 6, 7, 8]\n"
     ]
    }
   ],
   "source": [
    "list1=[1,2,3,4]\n",
    "list2=[5,6,7,8]\n",
    "res=list1+list2\n",
    "print(\"concatinated elements of the list\\n\",str(res))"
   ]
  },
  {
   "cell_type": "code",
   "execution_count": 34,
   "id": "87032a42",
   "metadata": {},
   "outputs": [
    {
     "name": "stdout",
     "output_type": "stream",
     "text": [
      "['i', 'n', 'd', 'i', 'a']\n"
     ]
    }
   ],
   "source": [
    "string=\"india\"\n",
    "x=[i for i in string]\n",
    "print(x)"
   ]
  },
  {
   "cell_type": "markdown",
   "id": "efdbbb88",
   "metadata": {},
   "source": [
    "#### "
   ]
  },
  {
   "cell_type": "code",
   "execution_count": 39,
   "id": "6fbe4919",
   "metadata": {},
   "outputs": [
    {
     "ename": "SyntaxError",
     "evalue": "cannot assign to literal (1040818802.py, line 3)",
     "output_type": "error",
     "traceback": [
      "\u001b[1;36m  Input \u001b[1;32mIn [39]\u001b[1;36m\u001b[0m\n\u001b[1;33m    a=[0]=b\u001b[0m\n\u001b[1;37m       ^\u001b[0m\n\u001b[1;31mSyntaxError\u001b[0m\u001b[1;31m:\u001b[0m cannot assign to literal\n"
     ]
    }
   ],
   "source": [
    "a=[1,2,3,4]\n",
    "b=[3,4,5,6]\n",
    "a=[:0]=b\n",
    "print(a)"
   ]
  },
  {
   "cell_type": "code",
   "execution_count": 40,
   "id": "5112ef90",
   "metadata": {},
   "outputs": [
    {
     "name": "stdout",
     "output_type": "stream",
     "text": [
      "[40, 50, 60, 10, 20, 30]\n"
     ]
    }
   ],
   "source": [
    "x = [10, 20, 30]\n",
    "y = [40, 50, 60]\n",
    "x[:0] =y\n",
    "print(x)"
   ]
  },
  {
   "cell_type": "code",
   "execution_count": null,
   "id": "8a704e28",
   "metadata": {},
   "outputs": [],
   "source": []
  }
 ],
 "metadata": {
  "kernelspec": {
   "display_name": "Python 3 (ipykernel)",
   "language": "python",
   "name": "python3"
  },
  "language_info": {
   "codemirror_mode": {
    "name": "ipython",
    "version": 3
   },
   "file_extension": ".py",
   "mimetype": "text/x-python",
   "name": "python",
   "nbconvert_exporter": "python",
   "pygments_lexer": "ipython3",
   "version": "3.9.12"
  }
 },
 "nbformat": 4,
 "nbformat_minor": 5
}

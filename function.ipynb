{
 "cells": [
  {
   "cell_type": "code",
   "execution_count": 1,
   "id": "d7f2e0d8",
   "metadata": {},
   "outputs": [
    {
     "name": "stdout",
     "output_type": "stream",
     "text": [
      "enter two string with using space\n",
      "india education\n",
      "education\n"
     ]
    }
   ],
   "source": [
    "def max_length(y):\n",
    "     return max(y,key=len)\n",
    "x=input('enter two string with using space\\n')\n",
    "print(max_length(x.split()))\n"
   ]
  },
  {
   "cell_type": "code",
   "execution_count": 2,
   "id": "f3dbeadc",
   "metadata": {},
   "outputs": [
    {
     "name": "stdout",
     "output_type": "stream",
     "text": [
      "Enter a number: 21\n",
      "even number\n"
     ]
    }
   ],
   "source": [
    "num =int(input(\"Enter a number: \"))\n",
    "if num%2==0:\n",
    "    print(\"odd number\")\n",
    "else:\n",
    "    print(\"even number\")"
   ]
  },
  {
   "cell_type": "code",
   "execution_count": 3,
   "id": "b6ad6cbd",
   "metadata": {},
   "outputs": [
    {
     "name": "stdout",
     "output_type": "stream",
     "text": [
      "{1: 1, 2: 4, 3: 9, 4: 16, 5: 25, 6: 36, 7: 49, 8: 64, 9: 81, 10: 100, 11: 121, 12: 144, 13: 169, 14: 196, 15: 225}\n"
     ]
    }
   ],
   "source": [
    "d=dict()\n",
    "for x in range(1,16):\n",
    "    d[x]=x**2\n",
    "print(d)  "
   ]
  },
  {
   "cell_type": "code",
   "execution_count": 4,
   "id": "ea48c8d5",
   "metadata": {},
   "outputs": [
    {
     "name": "stdout",
     "output_type": "stream",
     "text": [
      "{1: 1, 2: 4, 3: 9, 4: 16, 5: 25, 6: 36, 7: 49, 8: 64, 9: 81, 10: 100, 11: 121, 12: 144, 13: 169, 14: 196, 15: 225, 16: 256, 17: 289, 18: 324, 19: 361}\n",
      "dict_keys([1, 2, 3, 4, 5, 6, 7, 8, 9, 10, 11, 12, 13, 14, 15, 16, 17, 18, 19])\n",
      "dict_values([1, 4, 9, 16, 25, 36, 49, 64, 81, 100, 121, 144, 169, 196, 225, 256, 289, 324, 361])\n"
     ]
    }
   ],
   "source": [
    "d=dict()\n",
    "for x in range(1,20):\n",
    "    d[x]=x**2\n",
    "print(d)  \n",
    "print(d.keys())\n",
    "print(d.values())"
   ]
  },
  {
   "cell_type": "code",
   "execution_count": 5,
   "id": "d039c076",
   "metadata": {},
   "outputs": [
    {
     "name": "stdout",
     "output_type": "stream",
     "text": [
      "dict_values([1, 4, 9, 16, 25, 36, 49, 64, 81, 100, 121, 144, 169, 196, 225, 256, 289, 324, 361])\n"
     ]
    }
   ],
   "source": [
    "d=dict()\n",
    "for x in range(1,20):\n",
    "    d[x]=x**2\n",
    "print(d.values())\n",
    "    "
   ]
  },
  {
   "cell_type": "code",
   "execution_count": 8,
   "id": "d2e60eb8",
   "metadata": {},
   "outputs": [
    {
     "name": "stdout",
     "output_type": "stream",
     "text": [
      "[36, 49, 64, 81, 100, 121, 144, 169, 196, 225, 256, 289, 324, 361]\n"
     ]
    }
   ],
   "source": [
    "def printValues():\n",
    "    l=list()\n",
    "    for i in range(1,20):\n",
    "        l.append(i**2)\n",
    "    print(l[5:])\n",
    "printValues()"
   ]
  },
  {
   "cell_type": "code",
   "execution_count": 9,
   "id": "9d86b81a",
   "metadata": {},
   "outputs": [
    {
     "name": "stdout",
     "output_type": "stream",
     "text": [
      "[225, 256, 289, 324, 361]\n"
     ]
    }
   ],
   "source": [
    "def printValues():\n",
    "    l=list()\n",
    "    for i in range(1,20):\n",
    "        l.append(i**2)\n",
    "    print(l[-5:])\n",
    "printValues()"
   ]
  },
  {
   "cell_type": "code",
   "execution_count": 10,
   "id": "0a4fd874",
   "metadata": {},
   "outputs": [
    {
     "name": "stdout",
     "output_type": "stream",
     "text": [
      "(1, 4, 9, 16, 25, 36, 49, 64, 81, 100, 121, 144, 169, 196, 225, 256, 289, 324, 361)\n"
     ]
    }
   ],
   "source": [
    "def printValues():\n",
    "    l=list()\n",
    "    for i in range(1,20):\n",
    "        l.append(i**2)\n",
    "    print(tuple(l))\n",
    "printValues()"
   ]
  },
  {
   "cell_type": "code",
   "execution_count": null,
   "id": "69f6b72a",
   "metadata": {},
   "outputs": [],
   "source": []
  }
 ],
 "metadata": {
  "kernelspec": {
   "display_name": "Python 3 (ipykernel)",
   "language": "python",
   "name": "python3"
  },
  "language_info": {
   "codemirror_mode": {
    "name": "ipython",
    "version": 3
   },
   "file_extension": ".py",
   "mimetype": "text/x-python",
   "name": "python",
   "nbconvert_exporter": "python",
   "pygments_lexer": "ipython3",
   "version": "3.9.12"
  }
 },
 "nbformat": 4,
 "nbformat_minor": 5
}

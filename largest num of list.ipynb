{
 "cells": [
  {
   "cell_type": "code",
   "execution_count": 1,
   "id": "29c1caec",
   "metadata": {},
   "outputs": [
    {
     "name": "stdout",
     "output_type": "stream",
     "text": [
      "total amount of the list is 10\n"
     ]
    }
   ],
   "source": [
    "list=[1,2,3,4]\n",
    "total=sum(list)\n",
    "print(\"total amount of the list is\",total)"
   ]
  },
  {
   "cell_type": "code",
   "execution_count": 2,
   "id": "67f03c4a",
   "metadata": {},
   "outputs": [
    {
     "name": "stdout",
     "output_type": "stream",
     "text": [
      "largest number in the list is: 10\n"
     ]
    }
   ],
   "source": [
    "list1=[3,8,9,10]\n",
    "print(\"largest number in the list is:\",max(list1))\n"
   ]
  },
  {
   "cell_type": "code",
   "execution_count": 3,
   "id": "d8b8cde6",
   "metadata": {},
   "outputs": [
    {
     "name": "stdout",
     "output_type": "stream",
     "text": [
      "largest number in the list is: 3\n"
     ]
    }
   ],
   "source": [
    "list1=[3,8,9,10]\n",
    "print(\"largest number in the list is:\",min(list1))"
   ]
  },
  {
   "cell_type": "code",
   "execution_count": null,
   "id": "6a8b17b6",
   "metadata": {},
   "outputs": [],
   "source": []
  },
  {
   "cell_type": "code",
   "execution_count": 4,
   "id": "c27ef790",
   "metadata": {},
   "outputs": [
    {
     "name": "stdout",
     "output_type": "stream",
     "text": [
      "list not empty\n"
     ]
    }
   ],
   "source": [
    "list=[3,4,5,6]\n",
    "if not list:\n",
    "    print(\"list is empty\")\n",
    "else:\n",
    "    print(\"list not empty\")"
   ]
  },
  {
   "cell_type": "code",
   "execution_count": 5,
   "id": "8e28a7c4",
   "metadata": {},
   "outputs": [
    {
     "name": "stdout",
     "output_type": "stream",
     "text": [
      "list2\n"
     ]
    }
   ],
   "source": [
    "list1=[1,2,3,4]\n",
    "list2=list1.copy()\n",
    "print(\"list2\")\n"
   ]
  },
  {
   "cell_type": "code",
   "execution_count": 6,
   "id": "70a01b9c",
   "metadata": {},
   "outputs": [
    {
     "name": "stdout",
     "output_type": "stream",
     "text": [
      "newlist\n"
     ]
    }
   ],
   "source": [
    "mylist = [\"cat\",\"elephant\",\"rat\"]\n",
    "newlist = mylist.copy()\n",
    "print(\"newlist\")"
   ]
  },
  {
   "cell_type": "code",
   "execution_count": 7,
   "id": "74e4c046",
   "metadata": {},
   "outputs": [],
   "source": [
    "list=[3,4,5,6]\n",
    "list2=[2,4,6,7]\n",
    "list.extend(list2)"
   ]
  },
  {
   "cell_type": "code",
   "execution_count": null,
   "id": "ee81398b",
   "metadata": {},
   "outputs": [],
   "source": []
  },
  {
   "cell_type": "code",
   "execution_count": null,
   "id": "4d3c7e36",
   "metadata": {},
   "outputs": [],
   "source": []
  }
 ],
 "metadata": {
  "kernelspec": {
   "display_name": "Python 3 (ipykernel)",
   "language": "python",
   "name": "python3"
  },
  "language_info": {
   "codemirror_mode": {
    "name": "ipython",
    "version": 3
   },
   "file_extension": ".py",
   "mimetype": "text/x-python",
   "name": "python",
   "nbconvert_exporter": "python",
   "pygments_lexer": "ipython3",
   "version": "3.9.12"
  }
 },
 "nbformat": 4,
 "nbformat_minor": 5
}

{
 "cells": [
  {
   "cell_type": "code",
   "execution_count": 4,
   "id": "5670fbee",
   "metadata": {},
   "outputs": [
    {
     "name": "stdout",
     "output_type": "stream",
     "text": [
      "enter the amount1500\n",
      "total amount 1350.0\n"
     ]
    }
   ],
   "source": [
    "n=int(input(\"enter the amount\"))\n",
    "if n>=1000:\n",
    "    desc=n*0.10\n",
    "    total=n-desc\n",
    "    print(\"total amount\",total)\n",
    "else:\n",
    "    print(\"total amount short than 1000\",n)\n"
   ]
  },
  {
   "cell_type": "code",
   "execution_count": 8,
   "id": "32c18814",
   "metadata": {},
   "outputs": [
    {
     "name": "stdout",
     "output_type": "stream",
     "text": [
      "enter the number14\n",
      "not participating election process\n"
     ]
    }
   ],
   "source": [
    "n=int(input(\"enter the number\"))\n",
    "if n==18:\n",
    "    print(\"elegible for votting\")\n",
    "elif(n>=25):\n",
    "    print(\"elegible for election\")\n",
    "else:\n",
    "    print(\"not participating election process\")"
   ]
  },
  {
   "cell_type": "code",
   "execution_count": 9,
   "id": "4bdd0be6",
   "metadata": {},
   "outputs": [
    {
     "name": "stdout",
     "output_type": "stream",
     "text": [
      "enter the string:hridya\n"
     ]
    },
    {
     "ename": "NameError",
     "evalue": "name 'anu' is not defined",
     "output_type": "error",
     "traceback": [
      "\u001b[1;31m---------------------------------------------------------------------------\u001b[0m",
      "\u001b[1;31mNameError\u001b[0m                                 Traceback (most recent call last)",
      "Input \u001b[1;32mIn [9]\u001b[0m, in \u001b[0;36m<cell line: 2>\u001b[1;34m()\u001b[0m\n\u001b[0;32m      1\u001b[0m a\u001b[38;5;241m=\u001b[39m\u001b[38;5;28minput\u001b[39m(\u001b[38;5;124m\"\u001b[39m\u001b[38;5;124menter the string:\u001b[39m\u001b[38;5;124m\"\u001b[39m)\n\u001b[1;32m----> 2\u001b[0m a\u001b[38;5;241m=\u001b[39m\u001b[43manu\u001b[49m\n\u001b[0;32m      3\u001b[0m length\u001b[38;5;241m=\u001b[39m\u001b[38;5;28mstr\u001b[39m(a)\n\u001b[0;32m      4\u001b[0m \u001b[38;5;28mprint\u001b[39m(\u001b[38;5;124m\"\u001b[39m\u001b[38;5;124ma\u001b[39m\u001b[38;5;124m\"\u001b[39m)\n",
      "\u001b[1;31mNameError\u001b[0m: name 'anu' is not defined"
     ]
    }
   ],
   "source": [
    "a=input(\"enter the string:\")\n",
    "a=anu\n",
    "length=str(a)\n",
    "print(\"a\")"
   ]
  },
  {
   "cell_type": "code",
   "execution_count": null,
   "id": "941ddd0c",
   "metadata": {},
   "outputs": [],
   "source": []
  }
 ],
 "metadata": {
  "kernelspec": {
   "display_name": "Python 3 (ipykernel)",
   "language": "python",
   "name": "python3"
  },
  "language_info": {
   "codemirror_mode": {
    "name": "ipython",
    "version": 3
   },
   "file_extension": ".py",
   "mimetype": "text/x-python",
   "name": "python",
   "nbconvert_exporter": "python",
   "pygments_lexer": "ipython3",
   "version": "3.9.12"
  }
 },
 "nbformat": 4,
 "nbformat_minor": 5
}

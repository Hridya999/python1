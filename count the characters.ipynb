{
 "cells": [
  {
   "cell_type": "code",
   "execution_count": 6,
   "id": "9fc5aa4d",
   "metadata": {},
   "outputs": [
    {
     "name": "stdout",
     "output_type": "stream",
     "text": [
      "enter the characterghjj\n",
      "total number of character is,4\n"
     ]
    }
   ],
   "source": [
    "n=input(\"enter the character\")\n",
    "count=0\n",
    "for i in range(0,len(n)):\n",
    "    if(n[i]!=\"\"):\n",
    "        count=count+1\n",
    "print(\"total number of character is,\"+str(count))"
   ]
  },
  {
   "cell_type": "code",
   "execution_count": 7,
   "id": "0fe4ff2a",
   "metadata": {},
   "outputs": [
    {
     "name": "stdout",
     "output_type": "stream",
     "text": [
      "enter the stringAmerica\n",
      "AMERICA\n",
      "america\n"
     ]
    }
   ],
   "source": [
    "a=input(\"enter the string\")\n",
    "print(a.upper())\n",
    "print(a.lower())"
   ]
  },
  {
   "cell_type": "code",
   "execution_count": 10,
   "id": "a008686c",
   "metadata": {},
   "outputs": [
    {
     "name": "stdout",
     "output_type": "stream",
     "text": [
      "3\n"
     ]
    }
   ],
   "source": [
    "n=\"hjj\"\n",
    "print(len(n))"
   ]
  },
  {
   "cell_type": "code",
   "execution_count": 12,
   "id": "7213f42a",
   "metadata": {},
   "outputs": [
    {
     "name": "stdout",
     "output_type": "stream",
     "text": [
      "enter the string:anagha\n",
      "6\n"
     ]
    }
   ],
   "source": [
    "n=input(\"enter the string:\")\n",
    "print(len(n))"
   ]
  },
  {
   "cell_type": "code",
   "execution_count": null,
   "id": "15163988",
   "metadata": {},
   "outputs": [],
   "source": []
  }
 ],
 "metadata": {
  "kernelspec": {
   "display_name": "Python 3 (ipykernel)",
   "language": "python",
   "name": "python3"
  },
  "language_info": {
   "codemirror_mode": {
    "name": "ipython",
    "version": 3
   },
   "file_extension": ".py",
   "mimetype": "text/x-python",
   "name": "python",
   "nbconvert_exporter": "python",
   "pygments_lexer": "ipython3",
   "version": "3.9.12"
  }
 },
 "nbformat": 4,
 "nbformat_minor": 5
}
